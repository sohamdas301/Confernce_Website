{
  "nbformat": 4,
  "nbformat_minor": 0,
  "metadata": {
    "colab": {
      "provenance": [],
      "authorship_tag": "ABX9TyObANRolFcKJD3ls931FZgE",
      "include_colab_link": true
    },
    "kernelspec": {
      "name": "python3",
      "display_name": "Python 3"
    },
    "language_info": {
      "name": "python"
    }
  },
  "cells": [
    {
      "cell_type": "markdown",
      "metadata": {
        "id": "view-in-github",
        "colab_type": "text"
      },
      "source": [
        "<a href=\"https://colab.research.google.com/github/sohamdas301/Confernce_Website/blob/main/Data_cleaning_and_storage.ipynb\" target=\"_parent\"><img src=\"https://colab.research.google.com/assets/colab-badge.svg\" alt=\"Open In Colab\"/></a>"
      ]
    },
    {
      "cell_type": "code",
      "execution_count": null,
      "metadata": {
        "id": "POGCsU8LKwgR"
      },
      "outputs": [],
      "source": [
        "import pandas as pd\n",
        "import numpy as np"
      ]
    },
    {
      "cell_type": "code",
      "source": [
        "dataset = pd.read_csv('/content/Raymonds_Power_BI_Data.csv')"
      ],
      "metadata": {
        "id": "X6cDOpI4K85a"
      },
      "execution_count": null,
      "outputs": []
    },
    {
      "cell_type": "code",
      "source": [
        "dataset.head()"
      ],
      "metadata": {
        "colab": {
          "base_uri": "https://localhost:8080/",
          "height": 548
        },
        "id": "AfA5G5DWLP2J",
        "outputId": "5a85542e-688e-4528-bc6e-adaa30eef889"
      },
      "execution_count": null,
      "outputs": [
        {
          "output_type": "execute_result",
          "data": {
            "text/plain": [
              "       Video_Timestamp                                        Video_Title  \\\n",
              "0  1899-12-30 00:06:00  Raymond Techno-Stretch | An innovation from th...   \n",
              "1  1899-12-30 00:13:00  A story of impeccable style handcrafted in Ita...   \n",
              "2  1899-12-30 00:16:00                Raymond - One festival. Many looks.   \n",
              "3  1899-12-30 00:18:00                           Hand-Stitched by Raymond   \n",
              "4  1899-12-30 00:20:00  Raymond Techno-Stretch | An innovation from th...   \n",
              "\n",
              "   Video_Views  Video_Upload_Date      Column5    Column6      Column7  \\\n",
              "0          496                 60  Now playing        NaN          NaN   \n",
              "1          219                 12  Now playing  219 views  12 days ago   \n",
              "2      6500000                150  Now playing        NaN          NaN   \n",
              "3          949                330  Now playing        NaN          NaN   \n",
              "4     82000000                 90  Now playing        NaN          NaN   \n",
              "\n",
              "      Column8       Column9   Column10       Column11 Column12 Column13  \\\n",
              "0         NaN           NaN  496 views   2 months ago      NaN      NaN   \n",
              "1         NaN           NaN        NaN            NaN      NaN      NaN   \n",
              "2  6.5M views  5 months ago        NaN            NaN      NaN      NaN   \n",
              "3         NaN           NaN  949 views  11 months ago      NaN      NaN   \n",
              "4   82M views  3 months ago        NaN            NaN      NaN      NaN   \n",
              "\n",
              "   Column14  \n",
              "0  Verified  \n",
              "1  Verified  \n",
              "2  Verified  \n",
              "3  Verified  \n",
              "4  Verified  "
            ],
            "text/html": [
              "\n",
              "  <div id=\"df-13ebb724-9d33-4761-9a54-17a3a6055064\">\n",
              "    <div class=\"colab-df-container\">\n",
              "      <div>\n",
              "<style scoped>\n",
              "    .dataframe tbody tr th:only-of-type {\n",
              "        vertical-align: middle;\n",
              "    }\n",
              "\n",
              "    .dataframe tbody tr th {\n",
              "        vertical-align: top;\n",
              "    }\n",
              "\n",
              "    .dataframe thead th {\n",
              "        text-align: right;\n",
              "    }\n",
              "</style>\n",
              "<table border=\"1\" class=\"dataframe\">\n",
              "  <thead>\n",
              "    <tr style=\"text-align: right;\">\n",
              "      <th></th>\n",
              "      <th>Video_Timestamp</th>\n",
              "      <th>Video_Title</th>\n",
              "      <th>Video_Views</th>\n",
              "      <th>Video_Upload_Date</th>\n",
              "      <th>Column5</th>\n",
              "      <th>Column6</th>\n",
              "      <th>Column7</th>\n",
              "      <th>Column8</th>\n",
              "      <th>Column9</th>\n",
              "      <th>Column10</th>\n",
              "      <th>Column11</th>\n",
              "      <th>Column12</th>\n",
              "      <th>Column13</th>\n",
              "      <th>Column14</th>\n",
              "    </tr>\n",
              "  </thead>\n",
              "  <tbody>\n",
              "    <tr>\n",
              "      <th>0</th>\n",
              "      <td>1899-12-30 00:06:00</td>\n",
              "      <td>Raymond Techno-Stretch | An innovation from th...</td>\n",
              "      <td>496</td>\n",
              "      <td>60</td>\n",
              "      <td>Now playing</td>\n",
              "      <td>NaN</td>\n",
              "      <td>NaN</td>\n",
              "      <td>NaN</td>\n",
              "      <td>NaN</td>\n",
              "      <td>496 views</td>\n",
              "      <td>2 months ago</td>\n",
              "      <td>NaN</td>\n",
              "      <td>NaN</td>\n",
              "      <td>Verified</td>\n",
              "    </tr>\n",
              "    <tr>\n",
              "      <th>1</th>\n",
              "      <td>1899-12-30 00:13:00</td>\n",
              "      <td>A story of impeccable style handcrafted in Ita...</td>\n",
              "      <td>219</td>\n",
              "      <td>12</td>\n",
              "      <td>Now playing</td>\n",
              "      <td>219 views</td>\n",
              "      <td>12 days ago</td>\n",
              "      <td>NaN</td>\n",
              "      <td>NaN</td>\n",
              "      <td>NaN</td>\n",
              "      <td>NaN</td>\n",
              "      <td>NaN</td>\n",
              "      <td>NaN</td>\n",
              "      <td>Verified</td>\n",
              "    </tr>\n",
              "    <tr>\n",
              "      <th>2</th>\n",
              "      <td>1899-12-30 00:16:00</td>\n",
              "      <td>Raymond - One festival. Many looks.</td>\n",
              "      <td>6500000</td>\n",
              "      <td>150</td>\n",
              "      <td>Now playing</td>\n",
              "      <td>NaN</td>\n",
              "      <td>NaN</td>\n",
              "      <td>6.5M views</td>\n",
              "      <td>5 months ago</td>\n",
              "      <td>NaN</td>\n",
              "      <td>NaN</td>\n",
              "      <td>NaN</td>\n",
              "      <td>NaN</td>\n",
              "      <td>Verified</td>\n",
              "    </tr>\n",
              "    <tr>\n",
              "      <th>3</th>\n",
              "      <td>1899-12-30 00:18:00</td>\n",
              "      <td>Hand-Stitched by Raymond</td>\n",
              "      <td>949</td>\n",
              "      <td>330</td>\n",
              "      <td>Now playing</td>\n",
              "      <td>NaN</td>\n",
              "      <td>NaN</td>\n",
              "      <td>NaN</td>\n",
              "      <td>NaN</td>\n",
              "      <td>949 views</td>\n",
              "      <td>11 months ago</td>\n",
              "      <td>NaN</td>\n",
              "      <td>NaN</td>\n",
              "      <td>Verified</td>\n",
              "    </tr>\n",
              "    <tr>\n",
              "      <th>4</th>\n",
              "      <td>1899-12-30 00:20:00</td>\n",
              "      <td>Raymond Techno-Stretch | An innovation from th...</td>\n",
              "      <td>82000000</td>\n",
              "      <td>90</td>\n",
              "      <td>Now playing</td>\n",
              "      <td>NaN</td>\n",
              "      <td>NaN</td>\n",
              "      <td>82M views</td>\n",
              "      <td>3 months ago</td>\n",
              "      <td>NaN</td>\n",
              "      <td>NaN</td>\n",
              "      <td>NaN</td>\n",
              "      <td>NaN</td>\n",
              "      <td>Verified</td>\n",
              "    </tr>\n",
              "  </tbody>\n",
              "</table>\n",
              "</div>\n",
              "      <button class=\"colab-df-convert\" onclick=\"convertToInteractive('df-13ebb724-9d33-4761-9a54-17a3a6055064')\"\n",
              "              title=\"Convert this dataframe to an interactive table.\"\n",
              "              style=\"display:none;\">\n",
              "        \n",
              "  <svg xmlns=\"http://www.w3.org/2000/svg\" height=\"24px\"viewBox=\"0 0 24 24\"\n",
              "       width=\"24px\">\n",
              "    <path d=\"M0 0h24v24H0V0z\" fill=\"none\"/>\n",
              "    <path d=\"M18.56 5.44l.94 2.06.94-2.06 2.06-.94-2.06-.94-.94-2.06-.94 2.06-2.06.94zm-11 1L8.5 8.5l.94-2.06 2.06-.94-2.06-.94L8.5 2.5l-.94 2.06-2.06.94zm10 10l.94 2.06.94-2.06 2.06-.94-2.06-.94-.94-2.06-.94 2.06-2.06.94z\"/><path d=\"M17.41 7.96l-1.37-1.37c-.4-.4-.92-.59-1.43-.59-.52 0-1.04.2-1.43.59L10.3 9.45l-7.72 7.72c-.78.78-.78 2.05 0 2.83L4 21.41c.39.39.9.59 1.41.59.51 0 1.02-.2 1.41-.59l7.78-7.78 2.81-2.81c.8-.78.8-2.07 0-2.86zM5.41 20L4 18.59l7.72-7.72 1.47 1.35L5.41 20z\"/>\n",
              "  </svg>\n",
              "      </button>\n",
              "      \n",
              "  <style>\n",
              "    .colab-df-container {\n",
              "      display:flex;\n",
              "      flex-wrap:wrap;\n",
              "      gap: 12px;\n",
              "    }\n",
              "\n",
              "    .colab-df-convert {\n",
              "      background-color: #E8F0FE;\n",
              "      border: none;\n",
              "      border-radius: 50%;\n",
              "      cursor: pointer;\n",
              "      display: none;\n",
              "      fill: #1967D2;\n",
              "      height: 32px;\n",
              "      padding: 0 0 0 0;\n",
              "      width: 32px;\n",
              "    }\n",
              "\n",
              "    .colab-df-convert:hover {\n",
              "      background-color: #E2EBFA;\n",
              "      box-shadow: 0px 1px 2px rgba(60, 64, 67, 0.3), 0px 1px 3px 1px rgba(60, 64, 67, 0.15);\n",
              "      fill: #174EA6;\n",
              "    }\n",
              "\n",
              "    [theme=dark] .colab-df-convert {\n",
              "      background-color: #3B4455;\n",
              "      fill: #D2E3FC;\n",
              "    }\n",
              "\n",
              "    [theme=dark] .colab-df-convert:hover {\n",
              "      background-color: #434B5C;\n",
              "      box-shadow: 0px 1px 3px 1px rgba(0, 0, 0, 0.15);\n",
              "      filter: drop-shadow(0px 1px 2px rgba(0, 0, 0, 0.3));\n",
              "      fill: #FFFFFF;\n",
              "    }\n",
              "  </style>\n",
              "\n",
              "      <script>\n",
              "        const buttonEl =\n",
              "          document.querySelector('#df-13ebb724-9d33-4761-9a54-17a3a6055064 button.colab-df-convert');\n",
              "        buttonEl.style.display =\n",
              "          google.colab.kernel.accessAllowed ? 'block' : 'none';\n",
              "\n",
              "        async function convertToInteractive(key) {\n",
              "          const element = document.querySelector('#df-13ebb724-9d33-4761-9a54-17a3a6055064');\n",
              "          const dataTable =\n",
              "            await google.colab.kernel.invokeFunction('convertToInteractive',\n",
              "                                                     [key], {});\n",
              "          if (!dataTable) return;\n",
              "\n",
              "          const docLinkHtml = 'Like what you see? Visit the ' +\n",
              "            '<a target=\"_blank\" href=https://colab.research.google.com/notebooks/data_table.ipynb>data table notebook</a>'\n",
              "            + ' to learn more about interactive tables.';\n",
              "          element.innerHTML = '';\n",
              "          dataTable['output_type'] = 'display_data';\n",
              "          await google.colab.output.renderOutput(dataTable, element);\n",
              "          const docLink = document.createElement('div');\n",
              "          docLink.innerHTML = docLinkHtml;\n",
              "          element.appendChild(docLink);\n",
              "        }\n",
              "      </script>\n",
              "    </div>\n",
              "  </div>\n",
              "  "
            ]
          },
          "metadata": {},
          "execution_count": 4
        }
      ]
    },
    {
      "cell_type": "code",
      "source": [
        "dataset.info()"
      ],
      "metadata": {
        "colab": {
          "base_uri": "https://localhost:8080/"
        },
        "id": "DOo_ul-CLTLF",
        "outputId": "f5a51bb0-fb9b-4113-838f-d67c91debf9d"
      },
      "execution_count": null,
      "outputs": [
        {
          "output_type": "stream",
          "name": "stdout",
          "text": [
            "<class 'pandas.core.frame.DataFrame'>\n",
            "RangeIndex: 28 entries, 0 to 27\n",
            "Data columns (total 14 columns):\n",
            " #   Column             Non-Null Count  Dtype \n",
            "---  ------             --------------  ----- \n",
            " 0   Video_Timestamp    28 non-null     object\n",
            " 1   Video_Title        28 non-null     object\n",
            " 2   Video_Views        28 non-null     int64 \n",
            " 3   Video_Upload_Date  28 non-null     int64 \n",
            " 4   Column5            28 non-null     object\n",
            " 5   Column6            7 non-null      object\n",
            " 6   Column7            7 non-null      object\n",
            " 7   Column8            7 non-null      object\n",
            " 8   Column9            7 non-null      object\n",
            " 9   Column10           7 non-null      object\n",
            " 10  Column11           7 non-null      object\n",
            " 11  Column12           7 non-null      object\n",
            " 12  Column13           7 non-null      object\n",
            " 13  Column14           28 non-null     object\n",
            "dtypes: int64(2), object(12)\n",
            "memory usage: 3.2+ KB\n"
          ]
        }
      ]
    },
    {
      "cell_type": "code",
      "source": [
        "dataset.dtypes"
      ],
      "metadata": {
        "colab": {
          "base_uri": "https://localhost:8080/"
        },
        "id": "yraw5X5bLWFF",
        "outputId": "05a806c3-f319-4ef8-a9f3-6e0d557f179b"
      },
      "execution_count": null,
      "outputs": [
        {
          "output_type": "execute_result",
          "data": {
            "text/plain": [
              "Video_Timestamp      object\n",
              "Video_Title          object\n",
              "Video_Views           int64\n",
              "Video_Upload_Date     int64\n",
              "Column5              object\n",
              "Column6              object\n",
              "Column7              object\n",
              "Column8              object\n",
              "Column9              object\n",
              "Column10             object\n",
              "Column11             object\n",
              "Column12             object\n",
              "Column13             object\n",
              "Column14             object\n",
              "dtype: object"
            ]
          },
          "metadata": {},
          "execution_count": 6
        }
      ]
    },
    {
      "cell_type": "code",
      "source": [
        "len(dataset)"
      ],
      "metadata": {
        "colab": {
          "base_uri": "https://localhost:8080/"
        },
        "id": "-_RbGs0TLYO-",
        "outputId": "52847664-76df-48d1-ff5a-d840fa88237b"
      },
      "execution_count": null,
      "outputs": [
        {
          "output_type": "execute_result",
          "data": {
            "text/plain": [
              "28"
            ]
          },
          "metadata": {},
          "execution_count": 7
        }
      ]
    },
    {
      "cell_type": "markdown",
      "source": [
        "Dataset after removing unmanted fields"
      ],
      "metadata": {
        "id": "uVQz1qj4Lg-P"
      }
    },
    {
      "cell_type": "code",
      "source": [
        "dataset.info()"
      ],
      "metadata": {
        "colab": {
          "base_uri": "https://localhost:8080/"
        },
        "id": "UDmDRXmYLi09",
        "outputId": "1793e7d0-9df2-4dd5-e2b8-ebf18354f4f2"
      },
      "execution_count": null,
      "outputs": [
        {
          "output_type": "stream",
          "name": "stdout",
          "text": [
            "<class 'pandas.core.frame.DataFrame'>\n",
            "RangeIndex: 28 entries, 0 to 27\n",
            "Data columns (total 14 columns):\n",
            " #   Column             Non-Null Count  Dtype \n",
            "---  ------             --------------  ----- \n",
            " 0   Video_Timestamp    28 non-null     object\n",
            " 1   Video_Title        28 non-null     object\n",
            " 2   Video_Views        28 non-null     int64 \n",
            " 3   Video_Upload_Date  28 non-null     int64 \n",
            " 4   Column5            28 non-null     object\n",
            " 5   Column6            7 non-null      object\n",
            " 6   Column7            7 non-null      object\n",
            " 7   Column8            7 non-null      object\n",
            " 8   Column9            7 non-null      object\n",
            " 9   Column10           7 non-null      object\n",
            " 10  Column11           7 non-null      object\n",
            " 11  Column12           7 non-null      object\n",
            " 12  Column13           7 non-null      object\n",
            " 13  Column14           28 non-null     object\n",
            "dtypes: int64(2), object(12)\n",
            "memory usage: 3.2+ KB\n"
          ]
        }
      ]
    },
    {
      "cell_type": "markdown",
      "source": [
        "Drop Duplicate records from the dataset"
      ],
      "metadata": {
        "id": "lRUT6RsiLn63"
      }
    },
    {
      "cell_type": "code",
      "source": [
        "len(dataset)"
      ],
      "metadata": {
        "colab": {
          "base_uri": "https://localhost:8080/"
        },
        "id": "RrADq3YoLo-k",
        "outputId": "1644ed1a-b3df-4f82-81ef-4ac07430650c"
      },
      "execution_count": null,
      "outputs": [
        {
          "output_type": "execute_result",
          "data": {
            "text/plain": [
              "28"
            ]
          },
          "metadata": {},
          "execution_count": 9
        }
      ]
    },
    {
      "cell_type": "code",
      "source": [
        "dataset = dataset.drop_duplicates()"
      ],
      "metadata": {
        "id": "DGyURVw0Ltv0"
      },
      "execution_count": null,
      "outputs": []
    },
    {
      "cell_type": "markdown",
      "source": [
        "After removal of duplicate rows, total rows remaining in the dataset"
      ],
      "metadata": {
        "id": "cb5xBgQYLvw9"
      }
    },
    {
      "cell_type": "code",
      "source": [
        "len(dataset)"
      ],
      "metadata": {
        "colab": {
          "base_uri": "https://localhost:8080/"
        },
        "id": "MrHaCalBLwQs",
        "outputId": "01efe052-161a-4d27-ed9d-4414caec3ce2"
      },
      "execution_count": null,
      "outputs": [
        {
          "output_type": "execute_result",
          "data": {
            "text/plain": [
              "28"
            ]
          },
          "metadata": {},
          "execution_count": 11
        }
      ]
    },
    {
      "cell_type": "code",
      "source": [
        "dataset.isna().sum()"
      ],
      "metadata": {
        "colab": {
          "base_uri": "https://localhost:8080/"
        },
        "id": "h4JQtEQ_L0Tc",
        "outputId": "e7a496c1-0442-4620-c546-b0d7cb2e0152"
      },
      "execution_count": null,
      "outputs": [
        {
          "output_type": "execute_result",
          "data": {
            "text/plain": [
              "Video_Timestamp       0\n",
              "Video_Title           0\n",
              "Video_Views           0\n",
              "Video_Upload_Date     0\n",
              "Column5               0\n",
              "Column6              21\n",
              "Column7              21\n",
              "Column8              21\n",
              "Column9              21\n",
              "Column10             21\n",
              "Column11             21\n",
              "Column12             21\n",
              "Column13             21\n",
              "Column14              0\n",
              "dtype: int64"
            ]
          },
          "metadata": {},
          "execution_count": 12
        }
      ]
    },
    {
      "cell_type": "markdown",
      "source": [
        "Drop unwanted fields and fields with NA values"
      ],
      "metadata": {
        "id": "7WaunafDL311"
      }
    },
    {
      "cell_type": "code",
      "source": [
        "dataset.drop('Column5', inplace=True, axis=1)\n",
        "dataset.drop('Column6', inplace=True, axis=1)\n",
        "dataset.drop('Column7', inplace=True, axis=1)\n",
        "dataset.drop('Column8', inplace=True, axis=1)\n",
        "dataset.drop('Column9', inplace=True, axis=1)\n",
        "dataset.drop('Column10', inplace=True, axis=1)\n",
        "dataset.drop('Column11', inplace=True, axis=1)\n",
        "dataset.drop('Column12', inplace=True, axis=1)\n",
        "dataset.drop('Column13', inplace=True, axis=1)\n",
        "dataset.drop('Column14', inplace=True, axis=1)\n"
      ],
      "metadata": {
        "id": "FqKlnk3nL40y"
      },
      "execution_count": null,
      "outputs": []
    },
    {
      "cell_type": "markdown",
      "source": [
        "Dataset after removal of NA values"
      ],
      "metadata": {
        "id": "nHIadprML88E"
      }
    },
    {
      "cell_type": "code",
      "source": [
        "dataset.isna().sum()"
      ],
      "metadata": {
        "colab": {
          "base_uri": "https://localhost:8080/"
        },
        "id": "gw604ZmML-gd",
        "outputId": "403a1e40-41d8-466e-eaf8-fc2fa72001ad"
      },
      "execution_count": null,
      "outputs": [
        {
          "output_type": "execute_result",
          "data": {
            "text/plain": [
              "Video_Timestamp      0\n",
              "Video_Title          0\n",
              "Video_Views          0\n",
              "Video_Upload_Date    0\n",
              "dtype: int64"
            ]
          },
          "metadata": {},
          "execution_count": 14
        }
      ]
    },
    {
      "cell_type": "code",
      "source": [
        "dataset.info()"
      ],
      "metadata": {
        "colab": {
          "base_uri": "https://localhost:8080/"
        },
        "id": "iTFUdmc3MCqD",
        "outputId": "450aa094-8636-4a09-cf63-2ccd1b71809b"
      },
      "execution_count": null,
      "outputs": [
        {
          "output_type": "stream",
          "name": "stdout",
          "text": [
            "<class 'pandas.core.frame.DataFrame'>\n",
            "Int64Index: 28 entries, 0 to 27\n",
            "Data columns (total 4 columns):\n",
            " #   Column             Non-Null Count  Dtype \n",
            "---  ------             --------------  ----- \n",
            " 0   Video_Timestamp    28 non-null     object\n",
            " 1   Video_Title        28 non-null     object\n",
            " 2   Video_Views        28 non-null     int64 \n",
            " 3   Video_Upload_Date  28 non-null     int64 \n",
            "dtypes: int64(2), object(2)\n",
            "memory usage: 1.1+ KB\n"
          ]
        }
      ]
    },
    {
      "cell_type": "code",
      "source": [
        "dataset.head(10)"
      ],
      "metadata": {
        "colab": {
          "base_uri": "https://localhost:8080/",
          "height": 363
        },
        "id": "Lv4SAP6-ME2v",
        "outputId": "d1333715-7d41-4889-f118-69d1cc237058"
      },
      "execution_count": null,
      "outputs": [
        {
          "output_type": "execute_result",
          "data": {
            "text/plain": [
              "       Video_Timestamp                                        Video_Title  \\\n",
              "0  1899-12-30 00:06:00  Raymond Techno-Stretch | An innovation from th...   \n",
              "1  1899-12-30 00:13:00  A story of impeccable style handcrafted in Ita...   \n",
              "2  1899-12-30 00:16:00                Raymond - One festival. Many looks.   \n",
              "3  1899-12-30 00:18:00                           Hand-Stitched by Raymond   \n",
              "4  1899-12-30 00:20:00  Raymond Techno-Stretch | An innovation from th...   \n",
              "5  1899-12-30 00:20:00                                      Raymond Vibez   \n",
              "6  1899-12-30 00:26:00  Raymond Look Good Feel Good - Giving Never Goe...   \n",
              "7  1899-12-30 00:30:00                    Raymond - Durga Pujo Collection   \n",
              "8  1899-12-30 00:30:00            Raymond - Think Weddings, Think Raymond   \n",
              "9  1899-12-30 00:30:00                        Raymond Look Good Feel Good   \n",
              "\n",
              "   Video_Views  Video_Upload_Date  \n",
              "0          496                 60  \n",
              "1          219                 12  \n",
              "2      6500000                150  \n",
              "3          949                330  \n",
              "4     82000000                 90  \n",
              "5         1800                365  \n",
              "6          870                210  \n",
              "7        21000                365  \n",
              "8     21000000                365  \n",
              "9      4900000                240  "
            ],
            "text/html": [
              "\n",
              "  <div id=\"df-395f7ff3-9558-4e6d-99a7-3a32d4e89a06\">\n",
              "    <div class=\"colab-df-container\">\n",
              "      <div>\n",
              "<style scoped>\n",
              "    .dataframe tbody tr th:only-of-type {\n",
              "        vertical-align: middle;\n",
              "    }\n",
              "\n",
              "    .dataframe tbody tr th {\n",
              "        vertical-align: top;\n",
              "    }\n",
              "\n",
              "    .dataframe thead th {\n",
              "        text-align: right;\n",
              "    }\n",
              "</style>\n",
              "<table border=\"1\" class=\"dataframe\">\n",
              "  <thead>\n",
              "    <tr style=\"text-align: right;\">\n",
              "      <th></th>\n",
              "      <th>Video_Timestamp</th>\n",
              "      <th>Video_Title</th>\n",
              "      <th>Video_Views</th>\n",
              "      <th>Video_Upload_Date</th>\n",
              "    </tr>\n",
              "  </thead>\n",
              "  <tbody>\n",
              "    <tr>\n",
              "      <th>0</th>\n",
              "      <td>1899-12-30 00:06:00</td>\n",
              "      <td>Raymond Techno-Stretch | An innovation from th...</td>\n",
              "      <td>496</td>\n",
              "      <td>60</td>\n",
              "    </tr>\n",
              "    <tr>\n",
              "      <th>1</th>\n",
              "      <td>1899-12-30 00:13:00</td>\n",
              "      <td>A story of impeccable style handcrafted in Ita...</td>\n",
              "      <td>219</td>\n",
              "      <td>12</td>\n",
              "    </tr>\n",
              "    <tr>\n",
              "      <th>2</th>\n",
              "      <td>1899-12-30 00:16:00</td>\n",
              "      <td>Raymond - One festival. Many looks.</td>\n",
              "      <td>6500000</td>\n",
              "      <td>150</td>\n",
              "    </tr>\n",
              "    <tr>\n",
              "      <th>3</th>\n",
              "      <td>1899-12-30 00:18:00</td>\n",
              "      <td>Hand-Stitched by Raymond</td>\n",
              "      <td>949</td>\n",
              "      <td>330</td>\n",
              "    </tr>\n",
              "    <tr>\n",
              "      <th>4</th>\n",
              "      <td>1899-12-30 00:20:00</td>\n",
              "      <td>Raymond Techno-Stretch | An innovation from th...</td>\n",
              "      <td>82000000</td>\n",
              "      <td>90</td>\n",
              "    </tr>\n",
              "    <tr>\n",
              "      <th>5</th>\n",
              "      <td>1899-12-30 00:20:00</td>\n",
              "      <td>Raymond Vibez</td>\n",
              "      <td>1800</td>\n",
              "      <td>365</td>\n",
              "    </tr>\n",
              "    <tr>\n",
              "      <th>6</th>\n",
              "      <td>1899-12-30 00:26:00</td>\n",
              "      <td>Raymond Look Good Feel Good - Giving Never Goe...</td>\n",
              "      <td>870</td>\n",
              "      <td>210</td>\n",
              "    </tr>\n",
              "    <tr>\n",
              "      <th>7</th>\n",
              "      <td>1899-12-30 00:30:00</td>\n",
              "      <td>Raymond - Durga Pujo Collection</td>\n",
              "      <td>21000</td>\n",
              "      <td>365</td>\n",
              "    </tr>\n",
              "    <tr>\n",
              "      <th>8</th>\n",
              "      <td>1899-12-30 00:30:00</td>\n",
              "      <td>Raymond - Think Weddings, Think Raymond</td>\n",
              "      <td>21000000</td>\n",
              "      <td>365</td>\n",
              "    </tr>\n",
              "    <tr>\n",
              "      <th>9</th>\n",
              "      <td>1899-12-30 00:30:00</td>\n",
              "      <td>Raymond Look Good Feel Good</td>\n",
              "      <td>4900000</td>\n",
              "      <td>240</td>\n",
              "    </tr>\n",
              "  </tbody>\n",
              "</table>\n",
              "</div>\n",
              "      <button class=\"colab-df-convert\" onclick=\"convertToInteractive('df-395f7ff3-9558-4e6d-99a7-3a32d4e89a06')\"\n",
              "              title=\"Convert this dataframe to an interactive table.\"\n",
              "              style=\"display:none;\">\n",
              "        \n",
              "  <svg xmlns=\"http://www.w3.org/2000/svg\" height=\"24px\"viewBox=\"0 0 24 24\"\n",
              "       width=\"24px\">\n",
              "    <path d=\"M0 0h24v24H0V0z\" fill=\"none\"/>\n",
              "    <path d=\"M18.56 5.44l.94 2.06.94-2.06 2.06-.94-2.06-.94-.94-2.06-.94 2.06-2.06.94zm-11 1L8.5 8.5l.94-2.06 2.06-.94-2.06-.94L8.5 2.5l-.94 2.06-2.06.94zm10 10l.94 2.06.94-2.06 2.06-.94-2.06-.94-.94-2.06-.94 2.06-2.06.94z\"/><path d=\"M17.41 7.96l-1.37-1.37c-.4-.4-.92-.59-1.43-.59-.52 0-1.04.2-1.43.59L10.3 9.45l-7.72 7.72c-.78.78-.78 2.05 0 2.83L4 21.41c.39.39.9.59 1.41.59.51 0 1.02-.2 1.41-.59l7.78-7.78 2.81-2.81c.8-.78.8-2.07 0-2.86zM5.41 20L4 18.59l7.72-7.72 1.47 1.35L5.41 20z\"/>\n",
              "  </svg>\n",
              "      </button>\n",
              "      \n",
              "  <style>\n",
              "    .colab-df-container {\n",
              "      display:flex;\n",
              "      flex-wrap:wrap;\n",
              "      gap: 12px;\n",
              "    }\n",
              "\n",
              "    .colab-df-convert {\n",
              "      background-color: #E8F0FE;\n",
              "      border: none;\n",
              "      border-radius: 50%;\n",
              "      cursor: pointer;\n",
              "      display: none;\n",
              "      fill: #1967D2;\n",
              "      height: 32px;\n",
              "      padding: 0 0 0 0;\n",
              "      width: 32px;\n",
              "    }\n",
              "\n",
              "    .colab-df-convert:hover {\n",
              "      background-color: #E2EBFA;\n",
              "      box-shadow: 0px 1px 2px rgba(60, 64, 67, 0.3), 0px 1px 3px 1px rgba(60, 64, 67, 0.15);\n",
              "      fill: #174EA6;\n",
              "    }\n",
              "\n",
              "    [theme=dark] .colab-df-convert {\n",
              "      background-color: #3B4455;\n",
              "      fill: #D2E3FC;\n",
              "    }\n",
              "\n",
              "    [theme=dark] .colab-df-convert:hover {\n",
              "      background-color: #434B5C;\n",
              "      box-shadow: 0px 1px 3px 1px rgba(0, 0, 0, 0.15);\n",
              "      filter: drop-shadow(0px 1px 2px rgba(0, 0, 0, 0.3));\n",
              "      fill: #FFFFFF;\n",
              "    }\n",
              "  </style>\n",
              "\n",
              "      <script>\n",
              "        const buttonEl =\n",
              "          document.querySelector('#df-395f7ff3-9558-4e6d-99a7-3a32d4e89a06 button.colab-df-convert');\n",
              "        buttonEl.style.display =\n",
              "          google.colab.kernel.accessAllowed ? 'block' : 'none';\n",
              "\n",
              "        async function convertToInteractive(key) {\n",
              "          const element = document.querySelector('#df-395f7ff3-9558-4e6d-99a7-3a32d4e89a06');\n",
              "          const dataTable =\n",
              "            await google.colab.kernel.invokeFunction('convertToInteractive',\n",
              "                                                     [key], {});\n",
              "          if (!dataTable) return;\n",
              "\n",
              "          const docLinkHtml = 'Like what you see? Visit the ' +\n",
              "            '<a target=\"_blank\" href=https://colab.research.google.com/notebooks/data_table.ipynb>data table notebook</a>'\n",
              "            + ' to learn more about interactive tables.';\n",
              "          element.innerHTML = '';\n",
              "          dataTable['output_type'] = 'display_data';\n",
              "          await google.colab.output.renderOutput(dataTable, element);\n",
              "          const docLink = document.createElement('div');\n",
              "          docLink.innerHTML = docLinkHtml;\n",
              "          element.appendChild(docLink);\n",
              "        }\n",
              "      </script>\n",
              "    </div>\n",
              "  </div>\n",
              "  "
            ]
          },
          "metadata": {},
          "execution_count": 16
        }
      ]
    }
  ]
}